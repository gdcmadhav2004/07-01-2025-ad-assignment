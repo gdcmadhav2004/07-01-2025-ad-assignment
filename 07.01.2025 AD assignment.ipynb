{
  "nbformat": 4,
  "nbformat_minor": 0,
  "metadata": {
    "colab": {
      "provenance": []
    },
    "kernelspec": {
      "name": "python3",
      "display_name": "Python 3"
    },
    "language_info": {
      "name": "python"
    }
  },
  "cells": [
    {
      "cell_type": "code",
      "source": [
        "print (dir(str))"
      ],
      "metadata": {
        "colab": {
          "base_uri": "https://localhost:8080/"
        },
        "id": "IQytb1yp6bcu",
        "outputId": "28c019b6-a556-45c7-80ed-27348c4d112b"
      },
      "execution_count": 1,
      "outputs": [
        {
          "output_type": "stream",
          "name": "stdout",
          "text": [
            "['__add__', '__class__', '__contains__', '__delattr__', '__dir__', '__doc__', '__eq__', '__format__', '__ge__', '__getattribute__', '__getitem__', '__getnewargs__', '__gt__', '__hash__', '__init__', '__init_subclass__', '__iter__', '__le__', '__len__', '__lt__', '__mod__', '__mul__', '__ne__', '__new__', '__reduce__', '__reduce_ex__', '__repr__', '__rmod__', '__rmul__', '__setattr__', '__sizeof__', '__str__', '__subclasshook__', 'capitalize', 'casefold', 'center', 'count', 'encode', 'endswith', 'expandtabs', 'find', 'format', 'format_map', 'index', 'isalnum', 'isalpha', 'isascii', 'isdecimal', 'isdigit', 'isidentifier', 'islower', 'isnumeric', 'isprintable', 'isspace', 'istitle', 'isupper', 'join', 'ljust', 'lower', 'lstrip', 'maketrans', 'partition', 'removeprefix', 'removesuffix', 'replace', 'rfind', 'rindex', 'rjust', 'rpartition', 'rsplit', 'rstrip', 'split', 'splitlines', 'startswith', 'strip', 'swapcase', 'title', 'translate', 'upper', 'zfill']\n"
          ]
        }
      ]
    },
    {
      "cell_type": "code",
      "source": [
        "a=\"Helo\"\n",
        "b=a.upper()\n",
        "print(b)\n",
        "c=a.lower()\n",
        "print(c)\n",
        "#d=a.count()\n",
        "#print(d)\n",
        "e=a.title()\n",
        "print(e)\n",
        "f=a.replace(\"Helo\",\"hi\")\n",
        "print(f)\n",
        "g=a.isdigit()\n",
        "print(g)\n",
        "h=list(a)\n",
        "print(h)\n",
        "i= range(10)\n",
        "print(i)\n",
        "j=list(i)\n",
        "print(j)\n",
        "k=list(range(5,15,2))\n",
        "print(k)\n",
        "def add(a,b):\n",
        "  r=a+b\n",
        "  return r\n",
        "print(add(10,20))\n",
        "r2=add(30,40)\n",
        "print(r2)\n",
        "print(add(50,60))\n"
      ],
      "metadata": {
        "colab": {
          "base_uri": "https://localhost:8080/"
        },
        "id": "hDfi0mSz6f0b",
        "outputId": "b44c4fa5-eff5-440f-9ffb-0f28e09efdc2"
      },
      "execution_count": 15,
      "outputs": [
        {
          "output_type": "stream",
          "name": "stdout",
          "text": [
            "HELO\n",
            "helo\n",
            "Helo\n",
            "hi\n",
            "False\n",
            "['H', 'e', 'l', 'o']\n",
            "range(0, 10)\n",
            "[0, 1, 2, 3, 4, 5, 6, 7, 8, 9]\n",
            "[5, 7, 9, 11, 13]\n",
            "30\n",
            "70\n",
            "110\n"
          ]
        }
      ]
    },
    {
      "cell_type": "code",
      "source": [
        "#differnce betwen the funtion and methids\n",
        "#https://www.shiksha.com/online-courses/articles/difference-between-methods-and-functions-in-python/#:~:text=In%20Python%2C%20methods%20and%20functions,class%20instance%20to%20be%20invoked."
      ],
      "metadata": {
        "id": "JbfrKGRp9BFR"
      },
      "execution_count": null,
      "outputs": []
    },
    {
      "cell_type": "code",
      "source": [
        "def g(n,gr=\"Hello\"):\n",
        "  print(f\"{gr},{n}\")\n",
        "g(\"manu\")\n",
        "def cal(*args):\n",
        "  t=sum(args)\n",
        "  return t\n",
        "print(\"sum of 1,2,3 is:\",cal(1,2,3))\n"
      ],
      "metadata": {
        "colab": {
          "base_uri": "https://localhost:8080/"
        },
        "id": "Hcl008zf9Qrv",
        "outputId": "5235692d-982b-4c33-a90f-c7d24663b2e9"
      },
      "execution_count": 22,
      "outputs": [
        {
          "output_type": "stream",
          "name": "stdout",
          "text": [
            "Hello,manu\n",
            "sum of 1,2,3 is: 6\n"
          ]
        }
      ]
    },
    {
      "cell_type": "code",
      "source": [
        "cu= \"admin\"\n",
        "cp=\"123\"\n",
        "while True:\n",
        "  u =input(\"enter the username: \")\n",
        "  p=input(\"Enter the password: \")\n",
        "\n",
        "  if cu==u and cp==p:\n",
        "    print(\"welcome\")\n",
        "    break\n",
        "  else:\n",
        "    print(\"invalid\")"
      ],
      "metadata": {
        "colab": {
          "base_uri": "https://localhost:8080/"
        },
        "id": "A0U4hOGdCfnb",
        "outputId": "70223d10-9a68-4f11-bc39-47903f19751f"
      },
      "execution_count": 24,
      "outputs": [
        {
          "output_type": "stream",
          "name": "stdout",
          "text": [
            "enter the username: admin\n",
            "Enter the password: 123\n",
            "welcome\n"
          ]
        }
      ]
    },
    {
      "cell_type": "code",
      "source": [
        "#ASSIGNMENT: 2 BUILT IN FUNCTIONS AND ONE USER DEFINED FUNCTION\n",
        "#BUILT-IN FUNCTION\n",
        "# Sorting a list of numbers\n",
        "numbers = [5, 2, 9, 1, 5, 6]\n",
        "sorted_numbers = sorted(numbers)\n",
        "print(\"Sorted Numbers:\", sorted_numbers)\n",
        "\n",
        "# Sorting a list of strings by length\n",
        "names = [\"Alice\", \"Bob\", \"Christopher\", \"Eve\"]\n",
        "sorted_names = sorted(names, key=len)\n",
        "print(\"Names Sorted by Length:\", sorted_names)\n",
        "\n",
        "#USER DEFINED FUNCTION\n",
        "def factorial(n):\n",
        "    \"\"\"\n",
        "    Calculate the factorial of a non-negative integer n.\n",
        "    \"\"\"\n",
        "    if n < 0:\n",
        "        return \"Factorial is not defined for negative numbers.\"\n",
        "    elif n == 0 or n == 1:\n",
        "        return 1\n",
        "    else:\n",
        "        result = 1\n",
        "        for i in range(2, n + 1):\n",
        "            result *= i\n",
        "        return result\n",
        "\n",
        "# Using the function\n",
        "num = 5\n",
        "print(f\"The factorial of {num} is {factorial(num)}\")\n",
        "\n",
        "\n",
        "\n"
      ],
      "metadata": {
        "colab": {
          "base_uri": "https://localhost:8080/"
        },
        "id": "ky6vtb0JE1bZ",
        "outputId": "6ea3f8b2-d6b7-43ee-fbf3-d0d1b2ff09f5"
      },
      "execution_count": 26,
      "outputs": [
        {
          "output_type": "stream",
          "name": "stdout",
          "text": [
            "Sorted Numbers: [1, 2, 5, 5, 6, 9]\n",
            "Names Sorted by Length: ['Bob', 'Eve', 'Alice', 'Christopher']\n",
            "The factorial of 5 is 120\n"
          ]
        }
      ]
    }
  ]
}